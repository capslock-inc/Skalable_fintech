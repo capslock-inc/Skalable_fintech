{
 "cells": [
  {
   "cell_type": "code",
   "execution_count": 57,
   "metadata": {},
   "outputs": [],
   "source": [
    "import pandas as pd\n",
    "import numpy as np\n",
    "import sklearn\n",
    "from sklearn import linear_model\n",
    "from sklearn.utils import shuffle\n",
    "from sklearn import preprocessing\n"
   ]
  },
  {
   "cell_type": "code",
   "execution_count": 70,
   "metadata": {},
   "outputs": [],
   "source": [
    "i_data = pd.read_csv(\"data.csv\",sep=',')\n",
    "data = i_data[[\"Activity Type\",\"Time Spent (hours)\",\"Location Category\",\"Location Name\"]]\n",
    "predict_data = i_data[[\"Recommend\"]]\n",
    "temp = predict_data\n",
    "# data.info()\n",
    "data = pd.get_dummies(data)\n",
    "predict_data = pd.get_dummies(predict_data)\n",
    "# le = preprocessing.LabelEncoder()\n",
    "# le.fit_transform()\n",
    "# data.apply(pd.to_numeric, errors='coerce')\n",
    "# data.fillna(0, inplace=True)"
   ]
  },
  {
   "cell_type": "code",
   "execution_count": 71,
   "metadata": {},
   "outputs": [],
   "source": [
    "\n",
    "X= np.array(data)\n",
    "Y = np.array(predict_data)\n",
    "\n"
   ]
  },
  {
   "cell_type": "code",
   "execution_count": 72,
   "metadata": {},
   "outputs": [
    {
     "data": {
      "text/plain": [
       "array([[ 57,   0,   1, ...,   1,   0,   0],\n",
       "       [ 70,   1,   0, ...,   0,   0,   0],\n",
       "       [ 50,   0,   1, ...,   0,   0,   0],\n",
       "       ...,\n",
       "       [ 70,   1,   0, ...,   0,   0,   0],\n",
       "       [ 30,   1,   0, ...,   0,   0,   0],\n",
       "       [235,   1,   0, ...,   0,   0,   0]])"
      ]
     },
     "execution_count": 72,
     "metadata": {},
     "output_type": "execute_result"
    }
   ],
   "source": [
    "x_train, x_test, y_train, y_test = sklearn.model_selection.train_test_split(X, Y,random_state=0)\n",
    "# y_train"
   ]
  },
  {
   "cell_type": "code",
   "execution_count": 74,
   "metadata": {},
   "outputs": [
    {
     "name": "stdout",
     "output_type": "stream",
     "text": [
      "0.5438576494874805\n"
     ]
    }
   ],
   "source": [
    "linear = linear_model.LinearRegression()\n",
    "linear.fit(x_train, y_train)\n",
    "acc = linear.score(x_test, y_test)\n",
    "print(acc)"
   ]
  },
  {
   "cell_type": "code",
   "execution_count": 79,
   "metadata": {},
   "outputs": [
    {
     "name": "stdout",
     "output_type": "stream",
     "text": [
      "[ 9.62131900e-01  1.04080423e-03  1.18110765e-03 -7.77745352e-04\n",
      " -2.63058878e-04  3.78680995e-02 -1.18110765e-03] [36  0  0  1  0  0  1  0  0  0  0  0  0  0  0  0  1] 0        You travel is less. Please continue this trend.\n",
      "1      Your doing great. Please maintain your Gym tim...\n",
      "2        You travel is less. Please continue this trend.\n",
      "3      Your travel is more. Please consider using E-B...\n",
      "4                                    Consider E-Shopping\n",
      "                             ...                        \n",
      "318      You travel is less. Please continue this trend.\n",
      "319    Your doing extraodrinary. Please continue heal...\n",
      "320      You travel is less. Please continue this trend.\n",
      "321                                  Consider E-Shopping\n",
      "322    Your doing extraodrinary. Please continue heal...\n",
      "Name: Recommend, Length: 323, dtype: object\n"
     ]
    },
    {
     "ename": "IndexError",
     "evalue": "list index out of range",
     "output_type": "error",
     "traceback": [
      "\u001b[0;31m---------------------------------------------------------------------------\u001b[0m",
      "\u001b[0;31mIndexError\u001b[0m                                Traceback (most recent call last)",
      "Cell \u001b[0;32mIn [79], line 4\u001b[0m\n\u001b[1;32m      1\u001b[0m predictions \u001b[38;5;241m=\u001b[39m linear\u001b[38;5;241m.\u001b[39mpredict(x_test)\n\u001b[1;32m      3\u001b[0m \u001b[38;5;28;01mfor\u001b[39;00m x \u001b[38;5;129;01min\u001b[39;00m \u001b[38;5;28mrange\u001b[39m(\u001b[38;5;28mlen\u001b[39m(predictions)):\n\u001b[0;32m----> 4\u001b[0m     \u001b[38;5;28mprint\u001b[39m(predictions[x], x_test[x], i_data[\u001b[43m[\u001b[49m\u001b[38;5;124;43m\"\u001b[39;49m\u001b[38;5;124;43mRecommend\u001b[39;49m\u001b[38;5;124;43m\"\u001b[39;49m\u001b[43m]\u001b[49m\u001b[43m[\u001b[49m\u001b[43mx\u001b[49m\u001b[43m]\u001b[49m])\n",
      "\u001b[0;31mIndexError\u001b[0m: list index out of range"
     ]
    }
   ],
   "source": [
    "predictions = linear.predict(x_test)\n",
    "\n",
    "for x in range(len(predictions)):\n",
    "    print(predictions[x], x_test[x], i_data[[\"Recommend\"][x]])"
   ]
  },
  {
   "cell_type": "code",
   "execution_count": 77,
   "metadata": {},
   "outputs": [],
   "source": [
    "import pickle\n",
    "with open(\"model\", \"wb\") as f:\n",
    "    pickle.dump(linear, f)"
   ]
  },
  {
   "cell_type": "code",
   "execution_count": null,
   "metadata": {},
   "outputs": [],
   "source": [
    "pickle_in = open(\"\", \"rb\")\n",
    "linear = pickle.load(pickle_in)"
   ]
  }
 ],
 "metadata": {
  "kernelspec": {
   "display_name": "Python 3.10.4 ('env': venv)",
   "language": "python",
   "name": "python3"
  },
  "language_info": {
   "codemirror_mode": {
    "name": "ipython",
    "version": 3
   },
   "file_extension": ".py",
   "mimetype": "text/x-python",
   "name": "python",
   "nbconvert_exporter": "python",
   "pygments_lexer": "ipython3",
   "version": "3.10.4"
  },
  "orig_nbformat": 4,
  "vscode": {
   "interpreter": {
    "hash": "283435ca33c76e5bedb81fda55182d8b26f3c760579dc0e12fd566a9b059ec73"
   }
  }
 },
 "nbformat": 4,
 "nbformat_minor": 2
}
